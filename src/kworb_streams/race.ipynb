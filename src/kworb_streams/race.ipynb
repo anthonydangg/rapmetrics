{
 "cells": [
  {
   "cell_type": "code",
   "execution_count": null,
   "metadata": {},
   "outputs": [],
   "source": [
    "import pandas as pd\n",
    "import sqlite3\n",
    "import bar_chart_race as bcr"
   ]
  },
  {
   "cell_type": "code",
   "execution_count": 83,
   "metadata": {},
   "outputs": [],
   "source": [
    "conn = sqlite3.connect('db/streams.db')"
   ]
  },
  {
   "cell_type": "code",
   "execution_count": 84,
   "metadata": {},
   "outputs": [],
   "source": [
    "df = pd.read_sql_query(\"SELECT * FROM streams\", conn)"
   ]
  },
  {
   "cell_type": "code",
   "execution_count": 85,
   "metadata": {},
   "outputs": [],
   "source": [
    "df['date'] = pd.to_datetime(df['date'])\n",
    "df['track_name'] = df['track_name'].str.replace(r'\\s*\\(.*?\\)+', '', regex=True)"
   ]
  },
  {
   "cell_type": "code",
   "execution_count": 86,
   "metadata": {},
   "outputs": [],
   "source": [
    "pivot_df = df.pivot(index='date', columns='track_name', values='streams').fillna(0)"
   ]
  },
  {
   "cell_type": "code",
   "execution_count": 87,
   "metadata": {},
   "outputs": [
    {
     "data": {
      "text/html": [
       "<div>\n",
       "<style scoped>\n",
       "    .dataframe tbody tr th:only-of-type {\n",
       "        vertical-align: middle;\n",
       "    }\n",
       "\n",
       "    .dataframe tbody tr th {\n",
       "        vertical-align: top;\n",
       "    }\n",
       "\n",
       "    .dataframe thead th {\n",
       "        text-align: right;\n",
       "    }\n",
       "</style>\n",
       "<table border=\"1\" class=\"dataframe\">\n",
       "  <thead>\n",
       "    <tr style=\"text-align: right;\">\n",
       "      <th>track_name</th>\n",
       "      <th>dodger blue</th>\n",
       "      <th>gloria</th>\n",
       "      <th>gnx</th>\n",
       "      <th>heart pt. 6</th>\n",
       "      <th>hey now</th>\n",
       "      <th>luther</th>\n",
       "      <th>man at the garden</th>\n",
       "      <th>peekaboo</th>\n",
       "      <th>reincarnated</th>\n",
       "      <th>squabble up</th>\n",
       "      <th>tv off</th>\n",
       "      <th>wacced out murals</th>\n",
       "    </tr>\n",
       "    <tr>\n",
       "      <th>date</th>\n",
       "      <th></th>\n",
       "      <th></th>\n",
       "      <th></th>\n",
       "      <th></th>\n",
       "      <th></th>\n",
       "      <th></th>\n",
       "      <th></th>\n",
       "      <th></th>\n",
       "      <th></th>\n",
       "      <th></th>\n",
       "      <th></th>\n",
       "      <th></th>\n",
       "    </tr>\n",
       "  </thead>\n",
       "  <tbody>\n",
       "    <tr>\n",
       "      <th>2024-11-24 12:00:00</th>\n",
       "      <td>8202797.0</td>\n",
       "      <td>6500377.0</td>\n",
       "      <td>6715945.0</td>\n",
       "      <td>7985142.0</td>\n",
       "      <td>10017261.0</td>\n",
       "      <td>13445510.0</td>\n",
       "      <td>10204164.0</td>\n",
       "      <td>7652459.0</td>\n",
       "      <td>9691716.0</td>\n",
       "      <td>14352087.0</td>\n",
       "      <td>11290136.0</td>\n",
       "      <td>13215828.0</td>\n",
       "    </tr>\n",
       "    <tr>\n",
       "      <th>2024-11-25 12:00:00</th>\n",
       "      <td>11828058.0</td>\n",
       "      <td>9503810.0</td>\n",
       "      <td>9395535.0</td>\n",
       "      <td>11450292.0</td>\n",
       "      <td>14146094.0</td>\n",
       "      <td>20244810.0</td>\n",
       "      <td>14155906.0</td>\n",
       "      <td>10848431.0</td>\n",
       "      <td>13738503.0</td>\n",
       "      <td>20551300.0</td>\n",
       "      <td>17248409.0</td>\n",
       "      <td>18139417.0</td>\n",
       "    </tr>\n",
       "    <tr>\n",
       "      <th>2024-11-26 12:00:00</th>\n",
       "      <td>0.0</td>\n",
       "      <td>9503810.0</td>\n",
       "      <td>9395535.0</td>\n",
       "      <td>11450292.0</td>\n",
       "      <td>14146094.0</td>\n",
       "      <td>20244810.0</td>\n",
       "      <td>14155906.0</td>\n",
       "      <td>10848431.0</td>\n",
       "      <td>13738503.0</td>\n",
       "      <td>20551300.0</td>\n",
       "      <td>17248409.0</td>\n",
       "      <td>18139417.0</td>\n",
       "    </tr>\n",
       "    <tr>\n",
       "      <th>2024-11-27 12:00:00</th>\n",
       "      <td>15719884.0</td>\n",
       "      <td>12669604.0</td>\n",
       "      <td>12121435.0</td>\n",
       "      <td>15113169.0</td>\n",
       "      <td>18546207.0</td>\n",
       "      <td>28008499.0</td>\n",
       "      <td>18198188.0</td>\n",
       "      <td>14230569.0</td>\n",
       "      <td>18011252.0</td>\n",
       "      <td>27425411.0</td>\n",
       "      <td>24018690.0</td>\n",
       "      <td>23151555.0</td>\n",
       "    </tr>\n",
       "  </tbody>\n",
       "</table>\n",
       "</div>"
      ],
      "text/plain": [
       "track_name           dodger blue      gloria         gnx  heart pt. 6  \\\n",
       "date                                                                    \n",
       "2024-11-24 12:00:00    8202797.0   6500377.0   6715945.0    7985142.0   \n",
       "2024-11-25 12:00:00   11828058.0   9503810.0   9395535.0   11450292.0   \n",
       "2024-11-26 12:00:00          0.0   9503810.0   9395535.0   11450292.0   \n",
       "2024-11-27 12:00:00   15719884.0  12669604.0  12121435.0   15113169.0   \n",
       "\n",
       "track_name              hey now      luther  man at the garden    peekaboo  \\\n",
       "date                                                                         \n",
       "2024-11-24 12:00:00  10017261.0  13445510.0         10204164.0   7652459.0   \n",
       "2024-11-25 12:00:00  14146094.0  20244810.0         14155906.0  10848431.0   \n",
       "2024-11-26 12:00:00  14146094.0  20244810.0         14155906.0  10848431.0   \n",
       "2024-11-27 12:00:00  18546207.0  28008499.0         18198188.0  14230569.0   \n",
       "\n",
       "track_name           reincarnated  squabble up      tv off  wacced out murals  \n",
       "date                                                                           \n",
       "2024-11-24 12:00:00     9691716.0   14352087.0  11290136.0         13215828.0  \n",
       "2024-11-25 12:00:00    13738503.0   20551300.0  17248409.0         18139417.0  \n",
       "2024-11-26 12:00:00    13738503.0   20551300.0  17248409.0         18139417.0  \n",
       "2024-11-27 12:00:00    18011252.0   27425411.0  24018690.0         23151555.0  "
      ]
     },
     "execution_count": 87,
     "metadata": {},
     "output_type": "execute_result"
    }
   ],
   "source": [
    "pivot_df"
   ]
  },
  {
   "cell_type": "code",
   "execution_count": 88,
   "metadata": {},
   "outputs": [
    {
     "name": "stderr",
     "output_type": "stream",
     "text": [
      "/Users/anthonydang/Documents/projects/rapmetrics/.venv/lib/python3.10/site-packages/bar_chart_race/_make_chart.py:889: FutureWarning:\n",
      "\n",
      "Series.fillna with 'method' is deprecated and will raise in a future version. Use obj.ffill() or obj.bfill() instead.\n",
      "\n",
      "/Users/anthonydang/Documents/projects/rapmetrics/.venv/lib/python3.10/site-packages/bar_chart_race/_make_chart.py:286: UserWarning:\n",
      "\n",
      "set_ticklabels() should only be used with a fixed number of ticks, i.e. after set_ticks() or using a FixedLocator.\n",
      "\n",
      "/Users/anthonydang/Documents/projects/rapmetrics/.venv/lib/python3.10/site-packages/bar_chart_race/_make_chart.py:287: UserWarning:\n",
      "\n",
      "set_ticklabels() should only be used with a fixed number of ticks, i.e. after set_ticks() or using a FixedLocator.\n",
      "\n"
     ]
    }
   ],
   "source": [
    "bcr.bar_chart_race(\n",
    "    df=pivot_df,\n",
    "    filename='barchart_race.mp4',  # Save to a file or use None to display in a Jupyter Notebook\n",
    "    title='Sample Bar Chart Race'\n",
    ")"
   ]
  },
  {
   "cell_type": "code",
   "execution_count": null,
   "metadata": {},
   "outputs": [],
   "source": []
  }
 ],
 "metadata": {
  "kernelspec": {
   "display_name": ".venv",
   "language": "python",
   "name": "python3"
  },
  "language_info": {
   "codemirror_mode": {
    "name": "ipython",
    "version": 3
   },
   "file_extension": ".py",
   "mimetype": "text/x-python",
   "name": "python",
   "nbconvert_exporter": "python",
   "pygments_lexer": "ipython3",
   "version": "3.10.2"
  }
 },
 "nbformat": 4,
 "nbformat_minor": 2
}
